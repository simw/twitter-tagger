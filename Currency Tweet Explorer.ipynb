{
 "metadata": {
  "name": "",
  "signature": "sha256:f4f4a525f1869a617c781c1419d2e3422e6354a429b3c7068c04dfae93eec050"
 },
 "nbformat": 3,
 "nbformat_minor": 0,
 "worksheets": [
  {
   "cells": [
    {
     "cell_type": "markdown",
     "metadata": {},
     "source": [
      "# Currency tweet explorer\n",
      "\n",
      "I set up an AWS machine with mongo and tweepy, filtered the twitter stream on some keywords and saved the resulting tweets to mongo."
     ]
    },
    {
     "cell_type": "markdown",
     "metadata": {},
     "source": [
      "### Retrieving data from AWS"
     ]
    },
    {
     "cell_type": "markdown",
     "metadata": {},
     "source": [
      "I could (try and) run IPython hosted on the AWS machine, or open up a port (and password) for remote access to mongo ... but really, it's easier here to just do mongodump there, rsync from there to here, and mongorestore here."
     ]
    },
    {
     "cell_type": "code",
     "collapsed": false,
     "input": [
      "%%bash\n",
      "# On remote machine: mongodump --db ver1 (as the db / collection is called 'ver1')\n",
      "DNS=`aws ec2 describe-instances --instance-ids i-26c1b22a --query 'Reservations[].Instances[].PublicDnsName' --output text`\n",
      "echo \"Connecting to $DNS\"\n",
      "rsync -rave \"ssh -i /home/simon/.ssh/AmazonBasic-August2014.pem\" ubuntu@$DNS:~/dump .\n",
      "mongorestore dump"
     ],
     "language": "python",
     "metadata": {},
     "outputs": [
      {
       "output_type": "stream",
       "stream": "stdout",
       "text": [
        "Connecting to ec2-54-148-47-96.us-west-2.compute.amazonaws.com\n",
        "receiving incremental file list\n",
        "dump/ver1/alltweets.bson\n",
        "dump/ver1/alltweets.metadata.json\n",
        "dump/ver1/keywords.bson\n",
        "dump/ver1/keywords.metadata.json\n",
        "dump/ver1/system.indexes.bson\n",
        "dump/ver1/taggedtweets.bson\n",
        "dump/ver1/taggedtweets.metadata.json\n",
        "\n",
        "sent 188,304 bytes  received 11,415,021 bytes  539,689.53 bytes/sec\n",
        "total size is 446,861,235  speedup is 38.51\n",
        "connected to: 127.0.0.1\n",
        "2015-02-13T15:05:07.366-0800 dump/ver1/alltweets.bson\n",
        "2015-02-13T15:05:07.366-0800 \tgoing into namespace [ver1.alltweets]\n",
        "2015-02-13T15:05:10.026-0800 \t\tProgress: 55025467/391994732\t14%\t(bytes)\n",
        "2015-02-13T15:05:13.193-0800 \t\tProgress: 109195812/391994732\t27%\t(bytes)\n",
        "2015-02-13T15:05:16.111-0800 \t\tProgress: 138659065/391994732\t35%\t(bytes)\n",
        "2015-02-13T15:05:19.069-0800 \t\tProgress: 183575170/391994732\t46%\t(bytes)\n",
        "2015-02-13T15:05:22.017-0800 \t\tProgress: 213170466/391994732\t54%\t(bytes)\n",
        "2015-02-13T15:05:25.045-0800 \t\tProgress: 255100900/391994732\t65%\t(bytes)\n",
        "2015-02-13T15:05:28.310-0800 \t\tProgress: 301437082/391994732\t76%\t(bytes)\n",
        "2015-02-13T15:05:31.099-0800 \t\tProgress: 331013550/391994732\t84%\t(bytes)\n",
        "2015-02-13T15:05:34.051-0800 \t\tProgress: 382059709/391994732\t97%\t(bytes)\n",
        "164519 objects found\n",
        "2015-02-13T15:05:34.534-0800 \tCreating index: { key: { _id: 1 }, ns: \"ver1.alltweets\", name: \"_id_\" }\n",
        "2015-02-13T15:05:35.450-0800 dump/ver1/taggedtweets.bson\n",
        "2015-02-13T15:05:35.451-0800 \tgoing into namespace [ver1.taggedtweets]\n",
        "2015-02-13T15:05:38.518-0800 \t\tProgress: 14373283/54864824\t26%\t(bytes)\n",
        "2015-02-13T15:05:41.179-0800 \t\tProgress: 22879982/54864824\t41%\t(bytes)\n",
        "2015-02-13T15:05:44.328-0800 \t\tProgress: 27110344/54864824\t49%\t(bytes)\n",
        "2015-02-13T15:05:47.079-0800 \t\tProgress: 34165448/54864824\t62%\t(bytes)\n",
        "2015-02-13T15:05:50.684-0800 \t\tProgress: 39816877/54864824\t72%\t(bytes)\n",
        "2015-02-13T15:05:53.287-0800 \t\tProgress: 46904420/54864824\t85%\t(bytes)\n",
        "2015-02-13T15:05:57.237-0800 \t\tProgress: 53981953/54864824\t98%\t(bytes)\n",
        "160670 objects found\n",
        "2015-02-13T15:05:57.245-0800 \tCreating index: { key: { _id: 1 }, ns: \"ver1.taggedtweets\", name: \"_id_\" }\n",
        "2015-02-13T15:06:00.089-0800 dump/ver1/keywords.bson\n",
        "2015-02-13T15:06:00.089-0800 \tgoing into namespace [ver1.keywords]\n",
        "20 objects found\n",
        "2015-02-13T15:06:00.091-0800 \tCreating index: { key: { _id: 1 }, ns: \"ver1.keywords\", name: \"_id_\" }\n"
       ]
      },
      {
       "output_type": "stream",
       "stream": "stderr",
       "text": [
        "Restoring to ver1.alltweets without dropping. Restored data will be inserted without raising errors; check your server log\n",
        "Restoring to ver1.taggedtweets without dropping. Restored data will be inserted without raising errors; check your server log\n",
        "Restoring to ver1.keywords without dropping. Restored data will be inserted without raising errors; check your server log\n"
       ]
      }
     ],
     "prompt_number": 127
    },
    {
     "cell_type": "markdown",
     "metadata": {},
     "source": [
      "Now we can check and analyse the data locally"
     ]
    },
    {
     "cell_type": "code",
     "collapsed": false,
     "input": [
      "from __future__ import print_function\n",
      "from __future__ import unicode_literals\n",
      "from __future__ import division\n",
      "\n",
      "from IPython.core.display import display\n",
      "\n",
      "from pymongo import MongoClient\n",
      "connection = MongoClient()\n",
      "db = connection.ver1"
     ],
     "language": "python",
     "metadata": {},
     "outputs": [],
     "prompt_number": 128
    },
    {
     "cell_type": "markdown",
     "metadata": {},
     "source": [
      "Here are the keywords on which we were filtering the twitter stream. These are various versions of the exchange rates\n",
      "- EurUsd (Euro-Dollar),\n",
      "- GbpUsd (pounds sterling vs the dollar, aka 'cable')\n",
      "- UsdJpy (Dollar-Yen - ie Japanese Yen) and \n",
      "- UsdMxn (Dollar-Mex - ie mexican peso)"
     ]
    },
    {
     "cell_type": "code",
     "collapsed": false,
     "input": [
      "print([word['keyword'] for word in list(db.keywords.find(None, {'keyword': 1, '_id': 0}))])"
     ],
     "language": "python",
     "metadata": {},
     "outputs": [
      {
       "output_type": "stream",
       "stream": "stdout",
       "text": [
        "[u'eurusd', u'eur/usd', u'$eur/usd', u'$eurusd', u'#eurusd', u'gbpusd', u'gbp/usd', u'$gbp/usd', u'$gbpusd', u'#gbpusd', u'usdjpy', u'usd/jpy', u'$usd/jpy', u'$usdjpy', u'#usdjpy', u'usdmxn', u'usd/mxn', u'$usd/mxn', u'$usdmxn', u'#usdmxn']\n"
       ]
      }
     ],
     "prompt_number": 129
    },
    {
     "cell_type": "markdown",
     "metadata": {},
     "source": [
      "### Importing the tweets into IPython & pandas"
     ]
    },
    {
     "cell_type": "markdown",
     "metadata": {},
     "source": [
      "I didn't save all the tweet info from twitter, just some relevant fields. We're looking at ~1 week of tweets."
     ]
    },
    {
     "cell_type": "code",
     "collapsed": false,
     "input": [
      "tweets = list(db.taggedtweets.find())\n",
      "print(len(tweets))\n",
      "print(tweets[0].keys())\n",
      "print(tweets[0])"
     ],
     "language": "python",
     "metadata": {},
     "outputs": [
      {
       "output_type": "stream",
       "stream": "stdout",
       "text": [
        "160670\n",
        "[u'lang', u'user_followers', u'text', u'created_at', u'twitter_id', u'coordinates', u'in_reply_to_status_id', u'user_friends', u'user', u'keywords', u'_id']\n",
        "{u'lang': u'en', u'user_followers': 17706, u'text': u'The $EURUSD market will possibly go much lower, and test at least the 1.10 level. http://t.co/yyrTTLmXi2 #Euro #Fx http://t.co/iFbq1DAm9N', u'created_at': u'Mon Feb 09 19:09:52 +0000 2015', u'twitter_id': 564863773765148672L, u'coordinates': None, u'in_reply_to_status_id': None, u'user_friends': 2528, u'user': u'Daily_Forex', u'keywords': [u'eurusd'], u'_id': ObjectId('54d90601d891e41645eff0cf')}\n"
       ]
      }
     ],
     "prompt_number": 130
    },
    {
     "cell_type": "code",
     "collapsed": false,
     "input": [
      "import pandas as pd\n",
      "import numpy as np\n",
      "import matplotlib.pyplot as plt\n",
      "%matplotlib inline"
     ],
     "language": "python",
     "metadata": {},
     "outputs": [],
     "prompt_number": 131
    },
    {
     "cell_type": "markdown",
     "metadata": {},
     "source": [
      "Note, the dates *should be* in UTC, gotta love that Greenwich Mean Time."
     ]
    },
    {
     "cell_type": "code",
     "collapsed": false,
     "input": [
      "data = pd.DataFrame(tweets)\n",
      "data['created_at'] = pd.to_datetime(data['created_at'])"
     ],
     "language": "python",
     "metadata": {},
     "outputs": [],
     "prompt_number": 132
    },
    {
     "cell_type": "code",
     "collapsed": false,
     "input": [
      "display(data.head(1))\n",
      "display(data.dtypes)"
     ],
     "language": "python",
     "metadata": {},
     "outputs": [
      {
       "html": [
        "<div style=\"max-height:1000px;max-width:1500px;overflow:auto;\">\n",
        "<table border=\"1\" class=\"dataframe\">\n",
        "  <thead>\n",
        "    <tr style=\"text-align: right;\">\n",
        "      <th></th>\n",
        "      <th>_id</th>\n",
        "      <th>coordinates</th>\n",
        "      <th>created_at</th>\n",
        "      <th>in_reply_to_status_id</th>\n",
        "      <th>keywords</th>\n",
        "      <th>lang</th>\n",
        "      <th>text</th>\n",
        "      <th>twitter_id</th>\n",
        "      <th>user</th>\n",
        "      <th>user_followers</th>\n",
        "      <th>user_friends</th>\n",
        "    </tr>\n",
        "  </thead>\n",
        "  <tbody>\n",
        "    <tr>\n",
        "      <th>0</th>\n",
        "      <td> 54d90601d891e41645eff0cf</td>\n",
        "      <td> None</td>\n",
        "      <td>2015-02-09 19:09:52</td>\n",
        "      <td>NaN</td>\n",
        "      <td> [eurusd]</td>\n",
        "      <td> en</td>\n",
        "      <td> The $EURUSD market will possibly go much lower...</td>\n",
        "      <td> 564863773765148672</td>\n",
        "      <td> Daily_Forex</td>\n",
        "      <td> 17706</td>\n",
        "      <td> 2528</td>\n",
        "    </tr>\n",
        "  </tbody>\n",
        "</table>\n",
        "</div>"
       ],
       "metadata": {},
       "output_type": "display_data",
       "text": [
        "                        _id coordinates          created_at  \\\n",
        "0  54d90601d891e41645eff0cf        None 2015-02-09 19:09:52   \n",
        "\n",
        "   in_reply_to_status_id  keywords lang  \\\n",
        "0                    NaN  [eurusd]   en   \n",
        "\n",
        "                                                text          twitter_id  \\\n",
        "0  The $EURUSD market will possibly go much lower...  564863773765148672   \n",
        "\n",
        "          user  user_followers  user_friends  \n",
        "0  Daily_Forex           17706          2528  "
       ]
      },
      {
       "metadata": {},
       "output_type": "display_data",
       "text": [
        "_id                              object\n",
        "coordinates                      object\n",
        "created_at               datetime64[ns]\n",
        "in_reply_to_status_id           float64\n",
        "keywords                         object\n",
        "lang                             object\n",
        "text                             object\n",
        "twitter_id                        int64\n",
        "user                             object\n",
        "user_followers                    int64\n",
        "user_friends                      int64\n",
        "dtype: object"
       ]
      }
     ],
     "prompt_number": 133
    },
    {
     "cell_type": "code",
     "collapsed": false,
     "input": [
      "print('{:%A %Y-%m-%d %H:%M:%S}'.format(data['created_at'].min()))\n",
      "print('{:%A %Y-%m-%d %H:%M:%S}'.format(data['created_at'].max()))"
     ],
     "language": "python",
     "metadata": {},
     "outputs": [
      {
       "output_type": "stream",
       "stream": "stdout",
       "text": [
        "Monday 2015-02-09 19:09:52\n",
        "Friday 2015-02-13 23:04:11\n"
       ]
      }
     ],
     "prompt_number": 134
    },
    {
     "cell_type": "markdown",
     "metadata": {},
     "source": [
      "## Some basic analysis of our tweets"
     ]
    },
    {
     "cell_type": "markdown",
     "metadata": {},
     "source": [
      "### Day and time distribution"
     ]
    },
    {
     "cell_type": "markdown",
     "metadata": {},
     "source": [
      "OK, so my tweet-collector crashed at some point (looks like Tuesday afternoon), plus I didn't monitor the stream or error messages from twitter, so this isn't rigorous ..."
     ]
    },
    {
     "cell_type": "code",
     "collapsed": false,
     "input": [
      "from matplotlib.dates import date2num, num2date"
     ],
     "language": "python",
     "metadata": {},
     "outputs": [],
     "prompt_number": 135
    },
    {
     "cell_type": "code",
     "collapsed": false,
     "input": [
      "start_day_as_num = int(date2num(data['created_at'].min()))\n",
      "dts = np.array([date2num(d) - start_day_as_num for d in data['created_at']])"
     ],
     "language": "python",
     "metadata": {},
     "outputs": [],
     "prompt_number": 136
    },
    {
     "cell_type": "code",
     "collapsed": false,
     "input": [
      "histo = np.histogram(dts, bins=100)\n",
      "\n",
      "bin_size = histo[1][1]-histo[1][0]\n",
      "fig = plt.figure(figsize=(8,6))\n",
      "plt.bar(histo[1][:-1], histo[0], width=bin_size)"
     ],
     "language": "python",
     "metadata": {},
     "outputs": [
      {
       "metadata": {},
       "output_type": "pyout",
       "prompt_number": 137,
       "text": [
        "<Container object of 100 artists>"
       ]
      },
      {
       "metadata": {},
       "output_type": "display_data",
       "png": "[encoded data removed]",
       "text": [
        "<matplotlib.figure.Figure at 0x7f14dc12e590>"
       ]
      }
     ],
     "prompt_number": 137
    },
    {
     "cell_type": "markdown",
     "metadata": {},
     "source": [
      "Is there a daily pattern?"
     ]
    },
    {
     "cell_type": "code",
     "collapsed": false,
     "input": [
      "bin_size = 0.025\n",
      "bins = np.arange(0, 1, bin_size)\n",
      "bin_midpoints = (bins + bin_size/2)[:-1]\n",
      "histos = []\n",
      "histos = [np.histogram(dts[(dts < day) & (dts > (day-1))]-(day-1), bins=bins) for day in range(1, 7)]"
     ],
     "language": "python",
     "metadata": {},
     "outputs": [],
     "prompt_number": 147
    },
    {
     "cell_type": "code",
     "collapsed": false,
     "input": [
      "day_names = ['Monday', 'Tuesday', 'Wednesday', 'Thursday', 'Friday', 'Saturday', 'Sunday']\n",
      "\n",
      "plot_data = pd.DataFrame()\n",
      "plot_data['times'] = bin_midpoints\n",
      "for i, histo in enumerate(histos):\n",
      "    plot_data[day_names[i]] = histo[0]\n",
      "    \n",
      "plot_data.plot(x='times', figsize=(8,6))"
     ],
     "language": "python",
     "metadata": {},
     "outputs": [
      {
       "metadata": {},
       "output_type": "pyout",
       "prompt_number": 205,
       "text": [
        "<matplotlib.axes._subplots.AxesSubplot at 0x7f14ce5d0950>"
       ]
      },
      {
       "metadata": {},
       "output_type": "display_data",
       "png": "[encoded data removed]",
       "text": [
        "<matplotlib.figure.Figure at 0x7f14ce61a4d0>"
       ]
      }
     ],
     "prompt_number": 205
    },
    {
     "cell_type": "markdown",
     "metadata": {},
     "source": [
      "How about trying to fit a sine curve to this?"
     ]
    },
    {
     "cell_type": "code",
     "collapsed": false,
     "input": [
      "import math\n",
      "fit_data = pd.DataFrame()\n",
      "for i, histo in enumerate(histos):\n",
      "    tmp = pd.DataFrame()\n",
      "    tmp['t'] = bin_midpoints\n",
      "    tmp['y'] = histo[0]\n",
      "    tmp = tmp[tmp['y'] != 0]\n",
      "    fit_data = pd.concat([fit_data, tmp])\n",
      "    \n",
      "fit_data['sin(2pit)'] = fit_data['t'].apply(lambda t: math.sin(2*math.pi*t))\n",
      "fit_data['cos(2pit)'] = fit_data['t'].apply(lambda t: math.cos(2*math.pi*t))\n",
      "\n",
      "X = fit_data[['sin(2pit)', 'cos(2pit)']]\n",
      "y = fit_data['y']"
     ],
     "language": "python",
     "metadata": {},
     "outputs": [],
     "prompt_number": 223
    },
    {
     "cell_type": "code",
     "collapsed": false,
     "input": [
      "from sklearn.linear_model import LinearRegression\n",
      "regr = LinearRegression()\n",
      "regr.fit(X, y)\n",
      "print('Coefficients: {}'.format(regr.coef_))\n",
      "print('Intercept: {}'.format(regr.intercept_))\n",
      "print('Variance score: {:.2%}'.format(regr.score(X, y)))"
     ],
     "language": "python",
     "metadata": {},
     "outputs": [
      {
       "output_type": "stream",
       "stream": "stdout",
       "text": [
        "Coefficients: [  -2.39463879 -306.3609435 ]\n",
        "Intercept: 973.402989744\n",
        "Variance score: 30.57%\n"
       ]
      }
     ],
     "prompt_number": 224
    },
    {
     "cell_type": "markdown",
     "metadata": {},
     "source": [
      "Remember, $\\sin(t+\\phi) = \\sin t \\cos \\phi  + \\cos t \\sin \\phi $\n",
      "\n",
      "So, can solve $A \\cos\\phi = c1$ and $A \\sin\\phi = c2$, giving $A^2 = c1^2 + c2^2$ and $tan\\phi = \\frac{c2}{c1}$"
     ]
    },
    {
     "cell_type": "code",
     "collapsed": false,
     "input": [
      "b = regr.intercept_\n",
      "c1, c2 = regr.coef_\n",
      "\n",
      "A = math.sqrt(c1**2 + c2**2)\n",
      "phi = np.arctan(c2/c1)\n",
      "print('A={}, phi={}'.format(A, phi))"
     ],
     "language": "python",
     "metadata": {},
     "outputs": [
      {
       "output_type": "stream",
       "stream": "stdout",
       "text": [
        "A=306.37030208, phi=1.56298008888\n"
       ]
      }
     ],
     "prompt_number": 225
    },
    {
     "cell_type": "code",
     "collapsed": false,
     "input": [
      "fn = lambda t: b + A * np.sin(2 * math.pi * t - phi)\n",
      "#fn = lambda t: b + c1 * np.sin(2*math.pi*t) + c2 * np.cos(2*math.pi*t)\n",
      "fn = np.vectorize(fn)\n",
      "ys = fn(bin_midpoints)\n",
      "plot_data.plot(x='times', figsize=(8,6))\n",
      "plt.plot(bin_midpoints, ys)"
     ],
     "language": "python",
     "metadata": {},
     "outputs": [
      {
       "metadata": {},
       "output_type": "pyout",
       "prompt_number": 230,
       "text": [
        "[<matplotlib.lines.Line2D at 0x7f14cecc2990>]"
       ]
      },
      {
       "metadata": {},
       "output_type": "display_data",
       "png": "[encoded data removed]",
       "text": [
        "<matplotlib.figure.Figure at 0x7f149cc534d0>"
       ]
      }
     ],
     "prompt_number": 230
    },
    {
     "cell_type": "markdown",
     "metadata": {},
     "source": [
      "(ok, I cheated and put in -phi in the above, I couldn't see where I'd flipped the sign)"
     ]
    },
    {
     "cell_type": "markdown",
     "metadata": {},
     "source": [
      "We could take this further, do some cross validation etc (preferably with more days of data), but we'll leave it there for now."
     ]
    },
    {
     "cell_type": "markdown",
     "metadata": {},
     "source": [
      "Also, with some cleaning of the above code, you could look at whether tweets for different currencies had peaks at different times of day (eg UsdMxn being in US timezones, UsdJpy more in Japan)."
     ]
    },
    {
     "cell_type": "markdown",
     "metadata": {},
     "source": [
      "### Tweeters"
     ]
    },
    {
     "cell_type": "code",
     "collapsed": false,
     "input": [
      "tweeters = data[['_id', 'user', 'user_followers']].groupby('user').aggregate({'_id':'count', 'user_followers': 'mean'})"
     ],
     "language": "python",
     "metadata": {},
     "outputs": [],
     "prompt_number": 244
    },
    {
     "cell_type": "markdown",
     "metadata": {},
     "source": [
      "Who tweets the most?"
     ]
    },
    {
     "cell_type": "code",
     "collapsed": false,
     "input": [
      "tweeters.sort('_id', ascending=False)[:20]"
     ],
     "language": "python",
     "metadata": {},
     "outputs": [
      {
       "html": [
        "<div style=\"max-height:1000px;max-width:1500px;overflow:auto;\">\n",
        "<table border=\"1\" class=\"dataframe\">\n",
        "  <thead>\n",
        "    <tr style=\"text-align: right;\">\n",
        "      <th></th>\n",
        "      <th>_id</th>\n",
        "      <th>user_followers</th>\n",
        "    </tr>\n",
        "    <tr>\n",
        "      <th>user</th>\n",
        "      <th></th>\n",
        "      <th></th>\n",
        "    </tr>\n",
        "  </thead>\n",
        "  <tbody>\n",
        "    <tr>\n",
        "      <th>KhooForex</th>\n",
        "      <td> 3171</td>\n",
        "      <td> 1133.842636</td>\n",
        "    </tr>\n",
        "    <tr>\n",
        "      <th>aheadsupfx</th>\n",
        "      <td> 1824</td>\n",
        "      <td>  188.192434</td>\n",
        "    </tr>\n",
        "    <tr>\n",
        "      <th>tradingextreme1</th>\n",
        "      <td> 1140</td>\n",
        "      <td> 1252.919298</td>\n",
        "    </tr>\n",
        "    <tr>\n",
        "      <th>jsstriplerindo1</th>\n",
        "      <td> 1067</td>\n",
        "      <td>   54.319588</td>\n",
        "    </tr>\n",
        "    <tr>\n",
        "      <th>FXmstGBP</th>\n",
        "      <td> 1061</td>\n",
        "      <td>  877.747408</td>\n",
        "    </tr>\n",
        "    <tr>\n",
        "      <th>Steve_Richard_</th>\n",
        "      <td> 1046</td>\n",
        "      <td>   88.882409</td>\n",
        "    </tr>\n",
        "    <tr>\n",
        "      <th>jenniferreis0</th>\n",
        "      <td> 1045</td>\n",
        "      <td>  391.841148</td>\n",
        "    </tr>\n",
        "    <tr>\n",
        "      <th>aletheafx12</th>\n",
        "      <td> 1044</td>\n",
        "      <td>   59.205939</td>\n",
        "    </tr>\n",
        "    <tr>\n",
        "      <th>ArnoldWenz</th>\n",
        "      <td> 1031</td>\n",
        "      <td>  111.341416</td>\n",
        "    </tr>\n",
        "    <tr>\n",
        "      <th>AbdielDeangel12</th>\n",
        "      <td> 1012</td>\n",
        "      <td>   40.993083</td>\n",
        "    </tr>\n",
        "    <tr>\n",
        "      <th>charlotteacker8</th>\n",
        "      <td> 1002</td>\n",
        "      <td>  158.524950</td>\n",
        "    </tr>\n",
        "    <tr>\n",
        "      <th>jungmin_fx</th>\n",
        "      <td>  992</td>\n",
        "      <td>  118.023185</td>\n",
        "    </tr>\n",
        "    <tr>\n",
        "      <th>RAdamsFX</th>\n",
        "      <td>  992</td>\n",
        "      <td>   49.897177</td>\n",
        "    </tr>\n",
        "    <tr>\n",
        "      <th>NatalyaFX</th>\n",
        "      <td>  985</td>\n",
        "      <td>  186.530964</td>\n",
        "    </tr>\n",
        "    <tr>\n",
        "      <th>tiffanyfx</th>\n",
        "      <td>  980</td>\n",
        "      <td> 3047.660204</td>\n",
        "    </tr>\n",
        "    <tr>\n",
        "      <th>GouldingMaria</th>\n",
        "      <td>  978</td>\n",
        "      <td>   34.097137</td>\n",
        "    </tr>\n",
        "    <tr>\n",
        "      <th>jacekniemczyk</th>\n",
        "      <td>  971</td>\n",
        "      <td>   33.193615</td>\n",
        "    </tr>\n",
        "    <tr>\n",
        "      <th>HinnTrader</th>\n",
        "      <td>  960</td>\n",
        "      <td>   92.291667</td>\n",
        "    </tr>\n",
        "    <tr>\n",
        "      <th>AhismaSha</th>\n",
        "      <td>  953</td>\n",
        "      <td>   48.250787</td>\n",
        "    </tr>\n",
        "    <tr>\n",
        "      <th>TomaszFXPolska</th>\n",
        "      <td>  948</td>\n",
        "      <td>  369.496835</td>\n",
        "    </tr>\n",
        "  </tbody>\n",
        "</table>\n",
        "</div>"
       ],
       "metadata": {},
       "output_type": "pyout",
       "prompt_number": 247,
       "text": [
        "                  _id  user_followers\n",
        "user                                 \n",
        "KhooForex        3171     1133.842636\n",
        "aheadsupfx       1824      188.192434\n",
        "tradingextreme1  1140     1252.919298\n",
        "jsstriplerindo1  1067       54.319588\n",
        "FXmstGBP         1061      877.747408\n",
        "Steve_Richard_   1046       88.882409\n",
        "jenniferreis0    1045      391.841148\n",
        "aletheafx12      1044       59.205939\n",
        "ArnoldWenz       1031      111.341416\n",
        "AbdielDeangel12  1012       40.993083\n",
        "charlotteacker8  1002      158.524950\n",
        "jungmin_fx        992      118.023185\n",
        "RAdamsFX          992       49.897177\n",
        "NatalyaFX         985      186.530964\n",
        "tiffanyfx         980     3047.660204\n",
        "GouldingMaria     978       34.097137\n",
        "jacekniemczyk     971       33.193615\n",
        "HinnTrader        960       92.291667\n",
        "AhismaSha         953       48.250787\n",
        "TomaszFXPolska    948      369.496835"
       ]
      }
     ],
     "prompt_number": 247
    },
    {
     "cell_type": "code",
     "collapsed": false,
     "input": [
      "?display"
     ],
     "language": "python",
     "metadata": {},
     "outputs": [],
     "prompt_number": 254
    },
    {
     "cell_type": "code",
     "collapsed": false,
     "input": [
      "data[data['user']=='KhooForex']['text'][:20]"
     ],
     "language": "python",
     "metadata": {},
     "outputs": [
      {
       "metadata": {},
       "output_type": "pyout",
       "prompt_number": 253,
       "text": [
        "170    RT  Terry Lucia FX fx_lucia :\\nClosed Buy 1.3 ...\n",
        "173    RT  FOREX SIGNALS SMS fxpremiere :#\u548c\u8c10 #forex #...\n",
        "182    RT  Sergejs Maslobojevs SMaslobojevs :\\nBIG Mo...\n",
        "548    RT  25 PIPs Per Day 25PIPsPerDay :\\nForex Trad...\n",
        "549    RT  ForexTradingSignals FSignals :\\nDaily Anal...\n",
        "940    RT  Alethea Tifft aletheafx12 :\\nClosed Sell 1...\n",
        "941    RT  Mary Brewerfx brewerfx_mary :\\nClosed Sell...\n",
        "942    RT  Alethea Tifft aletheafx12 :\\nClosed Sell 1...\n",
        "943    RT  Mary Brewerfx brewerfx_mary :\\nClosed Buy ...\n",
        "944    RT  MT5ForexExpert MT5_ForexExpert :\\nClosed B...\n",
        "945    RT  Alethea Tifft aletheafx12 :\\nClosed Buy 1....\n",
        "946    RT  Mary Brewerfx brewerfx_mary :\\nClosed Buy ...\n",
        "947    RT  Alethea Tifft aletheafx12 :\\nClosed Buy 1....\n",
        "948    RT  Mary Brewerfx brewerfx_mary :\\nClosed Buy ...\n",
        "949    RT  MT5ForexExpert MT5_ForexExpert :\\nClosed B...\n",
        "950    RT  Alethea Tifft aletheafx12 :\\nClosed Buy 1....\n",
        "951    RT  MT5ForexExpert MT5_ForexExpert :\\nClosed B...\n",
        "952    RT  Alethea Tifft aletheafx12 :\\nClosed Buy 1....\n",
        "953    RT  MT5ForexExpert MT5_ForexExpert :\\nClosed B...\n",
        "954    RT  MT5ForexExpert MT5_ForexExpert :\\nClosed S...\n",
        "Name: text, dtype: object"
       ]
      }
     ],
     "prompt_number": 253
    },
    {
     "cell_type": "markdown",
     "metadata": {},
     "source": [
      "Hmmm, these people aren't very popular, and their tweets aren't very interesting. Maybe it's better to start with popular tweeters instead?"
     ]
    },
    {
     "cell_type": "code",
     "collapsed": false,
     "input": [
      "tweeters.sort('user_followers', ascending=False)[:20]"
     ],
     "language": "python",
     "metadata": {},
     "outputs": [
      {
       "html": [
        "<div style=\"max-height:1000px;max-width:1500px;overflow:auto;\">\n",
        "<table border=\"1\" class=\"dataframe\">\n",
        "  <thead>\n",
        "    <tr style=\"text-align: right;\">\n",
        "      <th></th>\n",
        "      <th>_id</th>\n",
        "      <th>user_followers</th>\n",
        "    </tr>\n",
        "    <tr>\n",
        "      <th>user</th>\n",
        "      <th></th>\n",
        "      <th></th>\n",
        "    </tr>\n",
        "  </thead>\n",
        "  <tbody>\n",
        "    <tr>\n",
        "      <th>StockTwits</th>\n",
        "      <td>  3</td>\n",
        "      <td> 407363.666667</td>\n",
        "    </tr>\n",
        "    <tr>\n",
        "      <th>zerohedge</th>\n",
        "      <td> 22</td>\n",
        "      <td> 238154.227273</td>\n",
        "    </tr>\n",
        "    <tr>\n",
        "      <th>taromatsumura</th>\n",
        "      <td>  1</td>\n",
        "      <td> 166004.000000</td>\n",
        "    </tr>\n",
        "    <tr>\n",
        "      <th>markets</th>\n",
        "      <td>  2</td>\n",
        "      <td> 156072.500000</td>\n",
        "    </tr>\n",
        "    <tr>\n",
        "      <th>russian_market</th>\n",
        "      <td>  1</td>\n",
        "      <td> 136316.000000</td>\n",
        "    </tr>\n",
        "    <tr>\n",
        "      <th>Iam360WISE</th>\n",
        "      <td>  1</td>\n",
        "      <td> 124486.000000</td>\n",
        "    </tr>\n",
        "    <tr>\n",
        "      <th>ufologhome</th>\n",
        "      <td> 11</td>\n",
        "      <td> 100949.636364</td>\n",
        "    </tr>\n",
        "    <tr>\n",
        "      <th>Bizitalk</th>\n",
        "      <td>  1</td>\n",
        "      <td> 100348.000000</td>\n",
        "    </tr>\n",
        "    <tr>\n",
        "      <th>DCD_AG_ENGLISH</th>\n",
        "      <td>  3</td>\n",
        "      <td>  99541.333333</td>\n",
        "    </tr>\n",
        "    <tr>\n",
        "      <th>forex_us</th>\n",
        "      <td>  5</td>\n",
        "      <td>  99363.600000</td>\n",
        "    </tr>\n",
        "    <tr>\n",
        "      <th>DailyFX</th>\n",
        "      <td> 32</td>\n",
        "      <td>  97630.750000</td>\n",
        "    </tr>\n",
        "    <tr>\n",
        "      <th>go4forexprofits</th>\n",
        "      <td>  1</td>\n",
        "      <td>  88901.000000</td>\n",
        "    </tr>\n",
        "    <tr>\n",
        "      <th>TheStalwart</th>\n",
        "      <td>  2</td>\n",
        "      <td>  85753.500000</td>\n",
        "    </tr>\n",
        "    <tr>\n",
        "      <th>adamwebb_uk</th>\n",
        "      <td>  1</td>\n",
        "      <td>  82191.000000</td>\n",
        "    </tr>\n",
        "    <tr>\n",
        "      <th>forex_bandar</th>\n",
        "      <td>  1</td>\n",
        "      <td>  79071.000000</td>\n",
        "    </tr>\n",
        "    <tr>\n",
        "      <th>Livetradingnews</th>\n",
        "      <td>  2</td>\n",
        "      <td>  77523.500000</td>\n",
        "    </tr>\n",
        "    <tr>\n",
        "      <th>DirectorsTalk</th>\n",
        "      <td>  1</td>\n",
        "      <td>  73831.000000</td>\n",
        "    </tr>\n",
        "    <tr>\n",
        "      <th>eddyquemas</th>\n",
        "      <td> 15</td>\n",
        "      <td>  73220.466667</td>\n",
        "    </tr>\n",
        "    <tr>\n",
        "      <th>worldwide_inves</th>\n",
        "      <td>  3</td>\n",
        "      <td>  70829.666667</td>\n",
        "    </tr>\n",
        "    <tr>\n",
        "      <th>SeekingAlpha</th>\n",
        "      <td>  1</td>\n",
        "      <td>  69635.000000</td>\n",
        "    </tr>\n",
        "  </tbody>\n",
        "</table>\n",
        "</div>"
       ],
       "metadata": {},
       "output_type": "pyout",
       "prompt_number": 255,
       "text": [
        "                 _id  user_followers\n",
        "user                                \n",
        "StockTwits         3   407363.666667\n",
        "zerohedge         22   238154.227273\n",
        "taromatsumura      1   166004.000000\n",
        "markets            2   156072.500000\n",
        "russian_market     1   136316.000000\n",
        "Iam360WISE         1   124486.000000\n",
        "ufologhome        11   100949.636364\n",
        "Bizitalk           1   100348.000000\n",
        "DCD_AG_ENGLISH     3    99541.333333\n",
        "forex_us           5    99363.600000\n",
        "DailyFX           32    97630.750000\n",
        "go4forexprofits    1    88901.000000\n",
        "TheStalwart        2    85753.500000\n",
        "adamwebb_uk        1    82191.000000\n",
        "forex_bandar       1    79071.000000\n",
        "Livetradingnews    2    77523.500000\n",
        "DirectorsTalk      1    73831.000000\n",
        "eddyquemas        15    73220.466667\n",
        "worldwide_inves    3    70829.666667\n",
        "SeekingAlpha       1    69635.000000"
       ]
      }
     ],
     "prompt_number": 255
    },
    {
     "cell_type": "markdown",
     "metadata": {},
     "source": [
      "OK, this is looking better. I've at least heard of zerohedge and SeekingAlpha."
     ]
    },
    {
     "cell_type": "code",
     "collapsed": false,
     "input": [
      "cutoff = 10000\n",
      "print('All tweets = {}'.format(len(data)))\n",
      "print('Tweets by popular tweeters = {}'.format(len(data[data['user_followers'] > cutoff])))"
     ],
     "language": "python",
     "metadata": {},
     "outputs": [
      {
       "output_type": "stream",
       "stream": "stdout",
       "text": [
        "All tweets = 160670\n",
        "Tweets by popular tweeters = 3161\n"
       ]
      }
     ],
     "prompt_number": 250
    },
    {
     "cell_type": "markdown",
     "metadata": {},
     "source": [
      "Maybe not all of these are golden, but it would be a good place to start."
     ]
    },
    {
     "cell_type": "markdown",
     "metadata": {},
     "source": [
      "## A recommendation engine"
     ]
    },
    {
     "cell_type": "markdown",
     "metadata": {},
     "source": [
      "Let's take the top 20 tweeters by followers, and 'like' them.\n",
      "Then we'll take the top 20 tweeters by tweet count, and 'dislike' them.\n",
      "\n",
      "Then we'll run this through a normal scikit-learn classifier system, and see if there are some other tweets that are predicted to be liked."
     ]
    },
    {
     "cell_type": "code",
     "collapsed": false,
     "input": [
      "like_users = tweeters.reset_index().sort('user_followers', ascending=False)['user'][:20]\n",
      "dislike_users = tweeters.reset_index().sort('_id', ascending=False)['user'][:20]\n",
      "all_users = tweeters.reset_index()['user']\n",
      "unknown_users = all_users[~(all_users.isin(like_users) | all_users.isin(dislike_users))]\n",
      "\n",
      "liked_tweets = data[data['user'].isin(like_users) & (data['lang'] == 'en')]\n",
      "liked_tweets['like'] = 1\n",
      "disliked_tweets = data[data['user'].isin(dislike_users)]\n",
      "disliked_tweets['like'] = 0\n",
      "\n",
      "likes_dislikes = pd.concat([liked_tweets, disliked_tweets])\n",
      "likes_dislikes = likes_dislikes[['text', 'like']]\n",
      "\n",
      "texts = likes_dislikes['text']\n",
      "likes = likes_dislikes['like']\n",
      "\n",
      "unknown_tweets = data[data['user'].isin(unknown_users)]"
     ],
     "language": "python",
     "metadata": {},
     "outputs": [],
     "prompt_number": 321
    },
    {
     "cell_type": "markdown",
     "metadata": {},
     "source": [
      "We'll just look at the text for this classifier (should probably also look at language ...)"
     ]
    },
    {
     "cell_type": "code",
     "collapsed": false,
     "input": [
      "ngram_max = 1\n",
      "binary = False\n",
      "analyzer = 'word'\n",
      "\n",
      "from sklearn.feature_extraction.text import CountVectorizer\n",
      "\n",
      "vect = CountVectorizer(ngram_range=(1,ngram_max), binary=False, lowercase=True, analyzer=analyzer)\n",
      "X = vect.fit_transform(texts)\n",
      "y = likes\n",
      "\n",
      "print(X.shape)"
     ],
     "language": "python",
     "metadata": {},
     "outputs": [
      {
       "output_type": "stream",
       "stream": "stdout",
       "text": [
        "(23284, 4901)\n"
       ]
      }
     ],
     "prompt_number": 323
    },
    {
     "cell_type": "markdown",
     "metadata": {},
     "source": [
      "For now, just looking at LogisticRegression - we could look at the probabilities of liking under LogisticRegression, and then set a higher barrier than 50%."
     ]
    },
    {
     "cell_type": "code",
     "collapsed": false,
     "input": [
      "from sklearn.linear_model import LogisticRegression\n",
      "from sklearn.svm import LinearSVC\n",
      "from sklearn.naive_bayes import GaussianNB\n",
      "\n",
      "clf = LogisticRegression()\n",
      "# clf = LinearSVC()\n",
      "# clf = GaussianNB() # Doesn't work on sparse matrix!\n",
      "\n",
      "clf.fit(X, y)"
     ],
     "language": "python",
     "metadata": {},
     "outputs": [
      {
       "metadata": {},
       "output_type": "pyout",
       "prompt_number": 336,
       "text": [
        "LogisticRegression(C=1.0, class_weight=None, dual=False, fit_intercept=True,\n",
        "          intercept_scaling=1, penalty='l2', random_state=None, tol=0.0001)"
       ]
      }
     ],
     "prompt_number": 336
    },
    {
     "cell_type": "code",
     "collapsed": false,
     "input": [
      "unknown_tweets['like'] = clf.predict(vect.transform(unknown_tweets['text']))\n",
      "unknown_tweets['like'].sum() / unknown_tweets['like'].count()"
     ],
     "language": "python",
     "metadata": {},
     "outputs": [
      {
       "metadata": {},
       "output_type": "pyout",
       "prompt_number": 337,
       "text": [
        "0.18528090623839719"
       ]
      }
     ],
     "prompt_number": 337
    },
    {
     "cell_type": "code",
     "collapsed": false,
     "input": [
      "max_colwidth = pd.get_option('max_colwidth')\n",
      "pd.set_option('max_colwidth', 55)\n",
      "print(unknown_tweets[['user','text']][unknown_tweets['like'] == 1][:20])\n",
      "pd.set_option('max_colwidth', max_colwidth)"
     ],
     "language": "python",
     "metadata": {},
     "outputs": [
      {
       "output_type": "stream",
       "stream": "stdout",
       "text": [
        "                user                                                    text\n",
        "0        Daily_Forex  The $EURUSD market will possibly go much lower, and...\n",
        "12        NWPCapital  $EURUSD (yellow) vs the Eurozone's differential tra...\n",
        "13      CapManagment     GBPUSD - Expanding the Range http://t.co/0EP80PHJsX\n",
        "15         rrlatypov  ammm...dont like, usdjpy on h4 for keeping chfjpy o...\n",
        "24        noticiasfx  $GBPUSD encuentra resistencia en 1.5200 http://t.co...\n",
        "66         anri_mate     \u041f\u0430\u0440\u0430 EUR/USD \u0442\u043e\u0440\u0433\u0443\u0435\u0442\u0441\u044f \u0441 \u043f\u043e\u043d\u0438\u0436\u0435\u043d\u0438\u0435\u043c \u0432 \u0440\u0430\u0439\u043e\u043d\u0435 1.1307\n",
        "69            Rubw91  Cerrado 1 largo de $EURUSD a 1.1339USD ganando 270U...\n",
        "71         DivisasFX  #FX GBP/USD encuentra resistencia en 1.5200 http://...\n",
        "73     juankibcn2000  Cerrado 1 corto de $USDJPY a 118.52USD ganando 110U...\n",
        "94         tksuri_05       \u304a\u306f\u3088\u3046\u3054\u3056\u3044\u307e\u3059 #fxch  #audjpy #usdjpy #gbpjpy \u2661 04:15\u2661\n",
        "100        tksuri_06       \u304a\u306f\u3088\u3046\u3054\u3056\u3044\u307e\u3059 #fxch  #audjpy #usdjpy #gbpjpy \u2661 04:15\u2661\n",
        "150      Daily_Forex  Curious what the week will bring for the $EURGBP, $...\n",
        "162  SPY_FractAlerts  Don't miss a pip. Trade GBPUSD now. http://t.co/whh...\n",
        "213         FX_Markt  Dollarindex behauptet sich stabil von US-Besch\u00e4ftig...\n",
        "266        Sara20992  THE BINARY OPTIONS COMPETITION WIN $100,000 http://...\n",
        "322   Paypal_USD2JPY  04:20:30 Paypal changed conversion USDJPY rate #Pay...\n",
        "412         dowbands  CANADA FX DEBT-Canadian dollar rebounds on crude ra...\n",
        "456     FXStreetNews  $USDJPY heading lower to 118.50 http://t.co/M5ZYkalZdk\n",
        "492  MW_forextrading  USD/JPY heading lower to 118.50 http://t.co/1iSwt8cBJP\n",
        "493      Autotrades1  USD/JPY heading lower to 118.50: FXStreet (Edinburg...\n"
       ]
      }
     ],
     "prompt_number": 338
    },
    {
     "cell_type": "markdown",
     "metadata": {},
     "source": [
      "OK, there are some reasonable tweets in there (along with some junk)."
     ]
    },
    {
     "cell_type": "markdown",
     "metadata": {},
     "source": [
      "Some more things to consider:\n",
      "1. different classifiers\n",
      "2. different ngrams\n",
      "3. use of SVD on the ngrams\n",
      "4. bringing in more info about the tweet (especially the language!)\n",
      "5. altering the approach slightly: instead of like / dislike, assign a rating (eg 1 to the disliked users, 5 to the liked users and 3 to the nothings), and then filter on tweets that predict above a 4"
     ]
    },
    {
     "cell_type": "markdown",
     "metadata": {},
     "source": [
      "Better system:\n",
      "- Filter by keywords to bring up some sample tweets\n",
      "- Follow some users selected from these results\n",
      "- Do some ML off the text and language of the resulting tweets\n",
      "- Update the ML by liking / disliking the resulting tweets"
     ]
    },
    {
     "cell_type": "code",
     "collapsed": false,
     "input": [],
     "language": "python",
     "metadata": {},
     "outputs": []
    }
   ],
   "metadata": {}
  }
 ]
}